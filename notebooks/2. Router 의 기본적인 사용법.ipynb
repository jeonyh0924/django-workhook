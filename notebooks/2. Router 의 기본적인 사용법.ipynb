{
 "cells": [
  {
   "cell_type": "markdown",
   "metadata": {},
   "source": [
    "# Router\n",
    "\n",
    "로직과 URL 을  자동으로 결정하는 기능을 제공하는 것\n",
    "Router 는 자동으로 URL 라우팅을 지원하고 신속하고 일관성 있는 방법을 제공함"
   ]
  },
  {
   "cell_type": "code",
   "execution_count": 1,
   "metadata": {},
   "outputs": [
    {
     "ename": "NameError",
     "evalue": "name 'viewSets' is not defined",
     "output_type": "error",
     "traceback": [
      "\u001b[0;31m---------------------------------------------------------------------------\u001b[0m",
      "\u001b[0;31mNameError\u001b[0m                                 Traceback (most recent call last)",
      "\u001b[0;32m<ipython-input-1-e5628f361781>\u001b[0m in \u001b[0;36m<module>\u001b[0;34m\u001b[0m\n\u001b[1;32m      1\u001b[0m \u001b[0;31m# ModelViewSet 을 사용하는 것과 연결 후 사용 가능한 API 목록을 확인\u001b[0m\u001b[0;34m\u001b[0m\u001b[0;34m\u001b[0m\u001b[0;34m\u001b[0m\u001b[0m\n\u001b[0;32m----> 2\u001b[0;31m \u001b[0;32mclass\u001b[0m \u001b[0mUserViewSet\u001b[0m\u001b[0;34m(\u001b[0m\u001b[0mviewSets\u001b[0m\u001b[0;34m.\u001b[0m\u001b[0mGenericViewSet\u001b[0m\u001b[0;34m,\u001b[0m \u001b[0mmixins\u001b[0m\u001b[0;34m.\u001b[0m\u001b[0mListModelMixin\u001b[0m\u001b[0;34m,\u001b[0m \u001b[0mmixins\u001b[0m\u001b[0;34m.\u001b[0m\u001b[0mCreateModelMxin\u001b[0m\u001b[0;34m)\u001b[0m\u001b[0;34m:\u001b[0m\u001b[0;34m\u001b[0m\u001b[0;34m\u001b[0m\u001b[0m\n\u001b[0m\u001b[1;32m      3\u001b[0m     \u001b[0mqueryset\u001b[0m \u001b[0;34m=\u001b[0m \u001b[0mUser\u001b[0m\u001b[0;34m.\u001b[0m\u001b[0mobjects\u001b[0m\u001b[0;34m.\u001b[0m\u001b[0mall\u001b[0m\u001b[0;34m(\u001b[0m\u001b[0;34m)\u001b[0m\u001b[0;34m\u001b[0m\u001b[0;34m\u001b[0m\u001b[0m\n\u001b[1;32m      4\u001b[0m     \u001b[0mserializer_class\u001b[0m \u001b[0;34m=\u001b[0m \u001b[0mUserSerializer\u001b[0m\u001b[0;34m\u001b[0m\u001b[0;34m\u001b[0m\u001b[0m\n\u001b[1;32m      5\u001b[0m \u001b[0;34m\u001b[0m\u001b[0m\n",
      "\u001b[0;31mNameError\u001b[0m: name 'viewSets' is not defined"
     ]
    }
   ],
   "source": [
    "# ModelViewSet 을 사용하는 것과 연결 후 사용 가능한 API 목록을 확인\n",
    "class UserViewSet(viewSets.GenericViewSet, mixins.ListModelMixin, mixins.CreateModelMxin):\n",
    "    queryset = User.objects.all()\n",
    "    serializer_class = UserSerializer\n",
    "    \n",
    "    @action(detail=True, methods=['POST'])\n",
    "    def set_admin(self, request, *args, **kwargs):\n",
    "        instance = self.get_object()\n",
    "        instance.is_admin = True\n",
    "        instance.save()\n",
    "        \n",
    "        return Response(status=status.HTTP_200_SUCCESS)\n",
    "\n",
    "router = SimpleRouter()\n",
    "router.register('user', UserViewSet)\n",
    "\n",
    "urlpatterns = router.urls"
   ]
  },
  {
   "cell_type": "code",
   "execution_count": null,
   "metadata": {},
   "outputs": [],
   "source": [
    "# Action 을 확장하고 API 목록을 확인"
   ]
  },
  {
   "cell_type": "code",
   "execution_count": null,
   "metadata": {},
   "outputs": [],
   "source": []
  }
 ],
 "metadata": {
  "kernelspec": {
   "display_name": "Django Shell-Plus",
   "language": "python",
   "name": "django_extensions"
  },
  "language_info": {
   "codemirror_mode": {
    "name": "ipython",
    "version": 3
   },
   "file_extension": ".py",
   "mimetype": "text/x-python",
   "name": "python",
   "nbconvert_exporter": "python",
   "pygments_lexer": "ipython3",
   "version": "3.8.2"
  }
 },
 "nbformat": 4,
 "nbformat_minor": 4
}
